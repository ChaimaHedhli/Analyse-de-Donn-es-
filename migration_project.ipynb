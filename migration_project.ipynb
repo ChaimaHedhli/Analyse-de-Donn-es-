{
 "cells": [
  {
   "cell_type": "markdown",
   "metadata": {},
   "source": [
    "# problem : \n"
   ]
  },
  {
   "cell_type": "markdown",
   "metadata": {},
   "source": [
    " a big number of illegal migration and the numbers of survived or dead or missing of peaple because of migration is unknouwn \n"
   ]
  },
  {
   "cell_type": "markdown",
   "metadata": {},
   "source": [
    "# solution : "
   ]
  },
  {
   "cell_type": "markdown",
   "metadata": {},
   "source": [
    "predect the number of missing and dead peaple in certain location"
   ]
  },
  {
   "cell_type": "code",
   "execution_count": 1,
   "metadata": {
    "scrolled": true
   },
   "outputs": [],
   "source": [
    "import pandas as pd\n",
    "import numpy as np\n",
    "import seaborn as sns\n",
    "import matplotlib.pyplot as plt\n",
    "from sklearn.preprocessing import LabelEncoder\n",
    "\n",
    "from sklearn.preprocessing import StandardScaler\n",
    "\n",
    "\n",
    "data= pd.read_csv('MissingMigrants-Global-2019-03-29T18-36-07.csv')\n"
   ]
  },
  {
   "cell_type": "markdown",
   "metadata": {},
   "source": [
    "# 1- data analysis"
   ]
  },
  {
   "cell_type": "code",
   "execution_count": 2,
   "metadata": {
    "scrolled": true
   },
   "outputs": [
    {
     "data": {
      "text/html": [
       "<div>\n",
       "<style scoped>\n",
       "    .dataframe tbody tr th:only-of-type {\n",
       "        vertical-align: middle;\n",
       "    }\n",
       "\n",
       "    .dataframe tbody tr th {\n",
       "        vertical-align: top;\n",
       "    }\n",
       "\n",
       "    .dataframe thead th {\n",
       "        text-align: right;\n",
       "    }\n",
       "</style>\n",
       "<table border=\"1\" class=\"dataframe\">\n",
       "  <thead>\n",
       "    <tr style=\"text-align: right;\">\n",
       "      <th></th>\n",
       "      <th>Web ID</th>\n",
       "      <th>Region of Incident</th>\n",
       "      <th>Reported Date</th>\n",
       "      <th>Reported Year</th>\n",
       "      <th>Reported Month</th>\n",
       "      <th>Number Dead</th>\n",
       "      <th>Minimum Estimated Number of Missing</th>\n",
       "      <th>Total Dead and Missing</th>\n",
       "      <th>Number of Survivors</th>\n",
       "      <th>Number of Females</th>\n",
       "      <th>Number of Males</th>\n",
       "      <th>Number of Children</th>\n",
       "      <th>Cause of Death</th>\n",
       "      <th>Location Description</th>\n",
       "      <th>Information Source</th>\n",
       "      <th>Location Coordinates</th>\n",
       "      <th>Migration Route</th>\n",
       "      <th>URL</th>\n",
       "      <th>UNSD Geographical Grouping</th>\n",
       "      <th>Source Quality</th>\n",
       "    </tr>\n",
       "  </thead>\n",
       "  <tbody>\n",
       "    <tr>\n",
       "      <th>0</th>\n",
       "      <td>51591</td>\n",
       "      <td>Mediterranean</td>\n",
       "      <td>March 28, 2019</td>\n",
       "      <td>2019</td>\n",
       "      <td>Mar</td>\n",
       "      <td>NaN</td>\n",
       "      <td>2.0</td>\n",
       "      <td>2</td>\n",
       "      <td>36.0</td>\n",
       "      <td>NaN</td>\n",
       "      <td>2.0</td>\n",
       "      <td>NaN</td>\n",
       "      <td>Presumed drowning</td>\n",
       "      <td>Off the coast of Chios, Greece</td>\n",
       "      <td>Hellenic Coast Guard via IOM Greece</td>\n",
       "      <td>38.362368696592, 26.172509473654</td>\n",
       "      <td>Eastern Mediterranean</td>\n",
       "      <td>NaN</td>\n",
       "      <td>Uncategorized</td>\n",
       "      <td>5</td>\n",
       "    </tr>\n",
       "    <tr>\n",
       "      <th>1</th>\n",
       "      <td>51588</td>\n",
       "      <td>Mediterranean</td>\n",
       "      <td>March 26, 2019</td>\n",
       "      <td>2019</td>\n",
       "      <td>Mar</td>\n",
       "      <td>4.0</td>\n",
       "      <td>NaN</td>\n",
       "      <td>4</td>\n",
       "      <td>11.0</td>\n",
       "      <td>3.0</td>\n",
       "      <td>NaN</td>\n",
       "      <td>1.0</td>\n",
       "      <td>Presumed drowning</td>\n",
       "      <td>Off the coast of Ayvacık district, Çanakkale p...</td>\n",
       "      <td>Turkish Coast Guard via IOM Turkey</td>\n",
       "      <td>39.441975591614, 26.378816195919</td>\n",
       "      <td>Eastern Mediterranean</td>\n",
       "      <td>http://bit.ly/2YmiPAN</td>\n",
       "      <td>Uncategorized</td>\n",
       "      <td>5</td>\n",
       "    </tr>\n",
       "    <tr>\n",
       "      <th>2</th>\n",
       "      <td>51589</td>\n",
       "      <td>Mediterranean</td>\n",
       "      <td>March 26, 2019</td>\n",
       "      <td>2019</td>\n",
       "      <td>Mar</td>\n",
       "      <td>1.0</td>\n",
       "      <td>NaN</td>\n",
       "      <td>1</td>\n",
       "      <td>NaN</td>\n",
       "      <td>NaN</td>\n",
       "      <td>NaN</td>\n",
       "      <td>NaN</td>\n",
       "      <td>Presumed drowning</td>\n",
       "      <td>Body recovered on Playa del Tarajal, Ceuta, Sp...</td>\n",
       "      <td>Ceuta al día, El Pueblo de Ceuta</td>\n",
       "      <td>35.871901875921, -5.343037665842</td>\n",
       "      <td>Western Mediterranean</td>\n",
       "      <td>http://bit.ly/2uyj7qO, http://bit.ly/2uwj5zC</td>\n",
       "      <td>Uncategorized</td>\n",
       "      <td>3</td>\n",
       "    </tr>\n",
       "    <tr>\n",
       "      <th>3</th>\n",
       "      <td>51590</td>\n",
       "      <td>Mediterranean</td>\n",
       "      <td>March 26, 2019</td>\n",
       "      <td>2019</td>\n",
       "      <td>Mar</td>\n",
       "      <td>1.0</td>\n",
       "      <td>NaN</td>\n",
       "      <td>1</td>\n",
       "      <td>NaN</td>\n",
       "      <td>NaN</td>\n",
       "      <td>NaN</td>\n",
       "      <td>NaN</td>\n",
       "      <td>Presumed drowning</td>\n",
       "      <td>Body recovered on beach near Tetouan, Morocco ...</td>\n",
       "      <td>El Pueblo de Ceuta</td>\n",
       "      <td>35.635115912988, -5.275650103548</td>\n",
       "      <td>Western Mediterranean</td>\n",
       "      <td>http://bit.ly/2uwj5zC</td>\n",
       "      <td>Uncategorized</td>\n",
       "      <td>1</td>\n",
       "    </tr>\n",
       "    <tr>\n",
       "      <th>4</th>\n",
       "      <td>51587</td>\n",
       "      <td>Central America</td>\n",
       "      <td>March 25, 2019</td>\n",
       "      <td>2019</td>\n",
       "      <td>Mar</td>\n",
       "      <td>1.0</td>\n",
       "      <td>NaN</td>\n",
       "      <td>1</td>\n",
       "      <td>NaN</td>\n",
       "      <td>NaN</td>\n",
       "      <td>1.0</td>\n",
       "      <td>NaN</td>\n",
       "      <td>Fall from train</td>\n",
       "      <td>Train tracks in Teacalco, Tlaxcala, Mexico</td>\n",
       "      <td>Megalópolis, Línea de contraste</td>\n",
       "      <td>19.334475177429, -98.069823987538</td>\n",
       "      <td>NaN</td>\n",
       "      <td>http://bit.ly/2uvDIvH, http://bit.ly/2TXAFLS</td>\n",
       "      <td>Central America</td>\n",
       "      <td>3</td>\n",
       "    </tr>\n",
       "  </tbody>\n",
       "</table>\n",
       "</div>"
      ],
      "text/plain": [
       "   Web ID Region of Incident   Reported Date  Reported Year Reported Month  \\\n",
       "0   51591      Mediterranean  March 28, 2019           2019            Mar   \n",
       "1   51588      Mediterranean  March 26, 2019           2019            Mar   \n",
       "2   51589      Mediterranean  March 26, 2019           2019            Mar   \n",
       "3   51590      Mediterranean  March 26, 2019           2019            Mar   \n",
       "4   51587    Central America  March 25, 2019           2019            Mar   \n",
       "\n",
       "   Number Dead  Minimum Estimated Number of Missing  Total Dead and Missing  \\\n",
       "0          NaN                                  2.0                       2   \n",
       "1          4.0                                  NaN                       4   \n",
       "2          1.0                                  NaN                       1   \n",
       "3          1.0                                  NaN                       1   \n",
       "4          1.0                                  NaN                       1   \n",
       "\n",
       "   Number of Survivors  Number of Females  Number of Males  \\\n",
       "0                 36.0                NaN              2.0   \n",
       "1                 11.0                3.0              NaN   \n",
       "2                  NaN                NaN              NaN   \n",
       "3                  NaN                NaN              NaN   \n",
       "4                  NaN                NaN              1.0   \n",
       "\n",
       "   Number of Children     Cause of Death  \\\n",
       "0                 NaN  Presumed drowning   \n",
       "1                 1.0  Presumed drowning   \n",
       "2                 NaN  Presumed drowning   \n",
       "3                 NaN  Presumed drowning   \n",
       "4                 NaN    Fall from train   \n",
       "\n",
       "                                Location Description  \\\n",
       "0                     Off the coast of Chios, Greece   \n",
       "1  Off the coast of Ayvacık district, Çanakkale p...   \n",
       "2  Body recovered on Playa del Tarajal, Ceuta, Sp...   \n",
       "3  Body recovered on beach near Tetouan, Morocco ...   \n",
       "4         Train tracks in Teacalco, Tlaxcala, Mexico   \n",
       "\n",
       "                    Information Source               Location Coordinates  \\\n",
       "0  Hellenic Coast Guard via IOM Greece   38.362368696592, 26.172509473654   \n",
       "1   Turkish Coast Guard via IOM Turkey   39.441975591614, 26.378816195919   \n",
       "2     Ceuta al día, El Pueblo de Ceuta   35.871901875921, -5.343037665842   \n",
       "3                   El Pueblo de Ceuta   35.635115912988, -5.275650103548   \n",
       "4      Megalópolis, Línea de contraste  19.334475177429, -98.069823987538   \n",
       "\n",
       "         Migration Route                                           URL  \\\n",
       "0  Eastern Mediterranean                                           NaN   \n",
       "1  Eastern Mediterranean                         http://bit.ly/2YmiPAN   \n",
       "2  Western Mediterranean  http://bit.ly/2uyj7qO, http://bit.ly/2uwj5zC   \n",
       "3  Western Mediterranean                         http://bit.ly/2uwj5zC   \n",
       "4                    NaN  http://bit.ly/2uvDIvH, http://bit.ly/2TXAFLS   \n",
       "\n",
       "  UNSD Geographical Grouping  Source Quality  \n",
       "0              Uncategorized               5  \n",
       "1              Uncategorized               5  \n",
       "2              Uncategorized               3  \n",
       "3              Uncategorized               1  \n",
       "4            Central America               3  "
      ]
     },
     "execution_count": 2,
     "metadata": {},
     "output_type": "execute_result"
    }
   ],
   "source": [
    "data.head()"
   ]
  },
  {
   "cell_type": "code",
   "execution_count": 2,
   "metadata": {},
   "outputs": [
    {
     "name": "stdout",
     "output_type": "stream",
     "text": [
      "<class 'pandas.core.frame.DataFrame'>\n",
      "RangeIndex: 5333 entries, 0 to 5332\n",
      "Data columns (total 20 columns):\n",
      "Web ID                                 5333 non-null int64\n",
      "Region of Incident                     5333 non-null object\n",
      "Reported Date                          5333 non-null object\n",
      "Reported Year                          5333 non-null int64\n",
      "Reported Month                         5333 non-null object\n",
      "Number Dead                            5142 non-null float64\n",
      "Minimum Estimated Number of Missing    503 non-null float64\n",
      "Total Dead and Missing                 5333 non-null int64\n",
      "Number of Survivors                    749 non-null float64\n",
      "Number of Females                      897 non-null float64\n",
      "Number of Males                        2813 non-null float64\n",
      "Number of Children                     644 non-null float64\n",
      "Cause of Death                         5333 non-null object\n",
      "Location Description                   5323 non-null object\n",
      "Information Source                     5331 non-null object\n",
      "Location Coordinates                   5332 non-null object\n",
      "Migration Route                        2660 non-null object\n",
      "URL                                    3192 non-null object\n",
      "UNSD Geographical Grouping             5322 non-null object\n",
      "Source Quality                         5333 non-null int64\n",
      "dtypes: float64(6), int64(4), object(10)\n",
      "memory usage: 625.0+ KB\n"
     ]
    }
   ],
   "source": [
    "data.info()"
   ]
  },
  {
   "cell_type": "code",
   "execution_count": 4,
   "metadata": {},
   "outputs": [
    {
     "data": {
      "text/html": [
       "<div>\n",
       "<style scoped>\n",
       "    .dataframe tbody tr th:only-of-type {\n",
       "        vertical-align: middle;\n",
       "    }\n",
       "\n",
       "    .dataframe tbody tr th {\n",
       "        vertical-align: top;\n",
       "    }\n",
       "\n",
       "    .dataframe thead th {\n",
       "        text-align: right;\n",
       "    }\n",
       "</style>\n",
       "<table border=\"1\" class=\"dataframe\">\n",
       "  <thead>\n",
       "    <tr style=\"text-align: right;\">\n",
       "      <th></th>\n",
       "      <th>Web ID</th>\n",
       "      <th>Reported Year</th>\n",
       "      <th>Number Dead</th>\n",
       "      <th>Minimum Estimated Number of Missing</th>\n",
       "      <th>Total Dead and Missing</th>\n",
       "      <th>Number of Survivors</th>\n",
       "      <th>Number of Females</th>\n",
       "      <th>Number of Males</th>\n",
       "      <th>Number of Children</th>\n",
       "      <th>Source Quality</th>\n",
       "    </tr>\n",
       "  </thead>\n",
       "  <tbody>\n",
       "    <tr>\n",
       "      <th>count</th>\n",
       "      <td>5333.000000</td>\n",
       "      <td>5333.000000</td>\n",
       "      <td>5142.000000</td>\n",
       "      <td>503.000000</td>\n",
       "      <td>5333.000000</td>\n",
       "      <td>749.000000</td>\n",
       "      <td>897.000000</td>\n",
       "      <td>2813.000000</td>\n",
       "      <td>644.000000</td>\n",
       "      <td>5333.000000</td>\n",
       "    </tr>\n",
       "    <tr>\n",
       "      <th>mean</th>\n",
       "      <td>43247.885805</td>\n",
       "      <td>2016.656104</td>\n",
       "      <td>3.287631</td>\n",
       "      <td>29.119284</td>\n",
       "      <td>5.916370</td>\n",
       "      <td>63.607477</td>\n",
       "      <td>2.012263</td>\n",
       "      <td>1.890864</td>\n",
       "      <td>2.476708</td>\n",
       "      <td>2.895556</td>\n",
       "    </tr>\n",
       "    <tr>\n",
       "      <th>std</th>\n",
       "      <td>5186.837212</td>\n",
       "      <td>1.237033</td>\n",
       "      <td>13.593407</td>\n",
       "      <td>67.913216</td>\n",
       "      <td>28.051811</td>\n",
       "      <td>146.520155</td>\n",
       "      <td>2.990100</td>\n",
       "      <td>5.510674</td>\n",
       "      <td>10.216220</td>\n",
       "      <td>1.423257</td>\n",
       "    </tr>\n",
       "    <tr>\n",
       "      <th>min</th>\n",
       "      <td>30158.000000</td>\n",
       "      <td>2014.000000</td>\n",
       "      <td>0.000000</td>\n",
       "      <td>0.000000</td>\n",
       "      <td>0.000000</td>\n",
       "      <td>0.000000</td>\n",
       "      <td>0.000000</td>\n",
       "      <td>0.000000</td>\n",
       "      <td>0.000000</td>\n",
       "      <td>1.000000</td>\n",
       "    </tr>\n",
       "    <tr>\n",
       "      <th>25%</th>\n",
       "      <td>40876.000000</td>\n",
       "      <td>2016.000000</td>\n",
       "      <td>1.000000</td>\n",
       "      <td>2.000000</td>\n",
       "      <td>1.000000</td>\n",
       "      <td>5.000000</td>\n",
       "      <td>1.000000</td>\n",
       "      <td>1.000000</td>\n",
       "      <td>1.000000</td>\n",
       "      <td>2.000000</td>\n",
       "    </tr>\n",
       "    <tr>\n",
       "      <th>50%</th>\n",
       "      <td>43504.000000</td>\n",
       "      <td>2017.000000</td>\n",
       "      <td>1.000000</td>\n",
       "      <td>7.000000</td>\n",
       "      <td>1.000000</td>\n",
       "      <td>15.000000</td>\n",
       "      <td>1.000000</td>\n",
       "      <td>1.000000</td>\n",
       "      <td>1.000000</td>\n",
       "      <td>2.000000</td>\n",
       "    </tr>\n",
       "    <tr>\n",
       "      <th>75%</th>\n",
       "      <td>45747.000000</td>\n",
       "      <td>2018.000000</td>\n",
       "      <td>2.000000</td>\n",
       "      <td>25.000000</td>\n",
       "      <td>3.000000</td>\n",
       "      <td>61.000000</td>\n",
       "      <td>2.000000</td>\n",
       "      <td>1.000000</td>\n",
       "      <td>2.000000</td>\n",
       "      <td>4.000000</td>\n",
       "    </tr>\n",
       "    <tr>\n",
       "      <th>max</th>\n",
       "      <td>51592.000000</td>\n",
       "      <td>2019.000000</td>\n",
       "      <td>750.000000</td>\n",
       "      <td>750.000000</td>\n",
       "      <td>1022.000000</td>\n",
       "      <td>1950.000000</td>\n",
       "      <td>30.000000</td>\n",
       "      <td>135.000000</td>\n",
       "      <td>250.000000</td>\n",
       "      <td>5.000000</td>\n",
       "    </tr>\n",
       "  </tbody>\n",
       "</table>\n",
       "</div>"
      ],
      "text/plain": [
       "             Web ID  Reported Year  Number Dead  \\\n",
       "count   5333.000000    5333.000000  5142.000000   \n",
       "mean   43247.885805    2016.656104     3.287631   \n",
       "std     5186.837212       1.237033    13.593407   \n",
       "min    30158.000000    2014.000000     0.000000   \n",
       "25%    40876.000000    2016.000000     1.000000   \n",
       "50%    43504.000000    2017.000000     1.000000   \n",
       "75%    45747.000000    2018.000000     2.000000   \n",
       "max    51592.000000    2019.000000   750.000000   \n",
       "\n",
       "       Minimum Estimated Number of Missing  Total Dead and Missing  \\\n",
       "count                           503.000000             5333.000000   \n",
       "mean                             29.119284                5.916370   \n",
       "std                              67.913216               28.051811   \n",
       "min                               0.000000                0.000000   \n",
       "25%                               2.000000                1.000000   \n",
       "50%                               7.000000                1.000000   \n",
       "75%                              25.000000                3.000000   \n",
       "max                             750.000000             1022.000000   \n",
       "\n",
       "       Number of Survivors  Number of Females  Number of Males  \\\n",
       "count           749.000000         897.000000      2813.000000   \n",
       "mean             63.607477           2.012263         1.890864   \n",
       "std             146.520155           2.990100         5.510674   \n",
       "min               0.000000           0.000000         0.000000   \n",
       "25%               5.000000           1.000000         1.000000   \n",
       "50%              15.000000           1.000000         1.000000   \n",
       "75%              61.000000           2.000000         1.000000   \n",
       "max            1950.000000          30.000000       135.000000   \n",
       "\n",
       "       Number of Children  Source Quality  \n",
       "count          644.000000     5333.000000  \n",
       "mean             2.476708        2.895556  \n",
       "std             10.216220        1.423257  \n",
       "min              0.000000        1.000000  \n",
       "25%              1.000000        2.000000  \n",
       "50%              1.000000        2.000000  \n",
       "75%              2.000000        4.000000  \n",
       "max            250.000000        5.000000  "
      ]
     },
     "execution_count": 4,
     "metadata": {},
     "output_type": "execute_result"
    }
   ],
   "source": [
    "data.describe()"
   ]
  },
  {
   "cell_type": "code",
   "execution_count": 5,
   "metadata": {},
   "outputs": [
    {
     "data": {
      "text/plain": [
       "Web ID                                    0\n",
       "Region of Incident                        0\n",
       "Reported Date                             0\n",
       "Reported Year                             0\n",
       "Reported Month                            0\n",
       "Number Dead                             191\n",
       "Minimum Estimated Number of Missing    4830\n",
       "Total Dead and Missing                    0\n",
       "Number of Survivors                    4584\n",
       "Number of Females                      4436\n",
       "Number of Males                        2520\n",
       "Number of Children                     4689\n",
       "Cause of Death                            0\n",
       "Location Description                     10\n",
       "Information Source                        2\n",
       "Location Coordinates                      1\n",
       "Migration Route                        2673\n",
       "URL                                    2141\n",
       "UNSD Geographical Grouping               11\n",
       "Source Quality                            0\n",
       "dtype: int64"
      ]
     },
     "execution_count": 5,
     "metadata": {},
     "output_type": "execute_result"
    }
   ],
   "source": [
    "data.isnull().sum()"
   ]
  },
  {
   "cell_type": "markdown",
   "metadata": {},
   "source": [
    "# 2-data processor"
   ]
  },
  {
   "cell_type": "code",
   "execution_count": 6,
   "metadata": {},
   "outputs": [],
   "source": [
    "data['Number Dead']=data['Number Dead'].fillna(data['Number Dead'].mean())\n",
    "data['Location Description']=data['Location Description'].fillna(data['Location Description'].mode()[0])\n",
    "data['Information Source']=data['Information Source'].fillna(data['Information Source'].mode()[0])\n",
    "data['Location Coordinates']=data['Location Coordinates'].fillna(data['Location Coordinates'].mode()[0])\n",
    "data['UNSD Geographical Grouping']=data['UNSD Geographical Grouping'].fillna(data['UNSD Geographical Grouping'].mode()[0])"
   ]
  },
  {
   "cell_type": "code",
   "execution_count": 7,
   "metadata": {},
   "outputs": [],
   "source": [
    "data['Minimum Estimated Number of Missing']=data['Total Dead and Missing']-data[\"Number Dead\"]\n",
    "data['Number of Survivors'].fillna(0, inplace=True)\n",
    "data['Number of Females'].fillna(0, inplace=True)\n",
    "data['Number of Males'].fillna(int(data['Number of Males'].mean()), inplace=True)\n",
    "data['Number of Children'].fillna(0, inplace=True)"
   ]
  },
  {
   "cell_type": "code",
   "execution_count": 8,
   "metadata": {},
   "outputs": [],
   "source": [
    "data['Minimum Estimated Number of Missing']=data['Minimum Estimated Number of Missing'].astype(int)\n",
    "data['Total Dead and Missing']=data['Total Dead and Missing'].astype(int)\n",
    "data['Number Dead']=data['Number Dead'].astype(int)\n",
    "data['Number of Survivors']=data['Number of Survivors'].astype(int)\n",
    "data['Number of Females']=data['Number of Females'].astype(int)\n",
    "data['Number of Males']=data['Number of Males'].astype(int)\n",
    "data['Number of Children']=data['Number of Children'].astype(int)"
   ]
  },
  {
   "cell_type": "code",
   "execution_count": 9,
   "metadata": {
    "scrolled": true
   },
   "outputs": [
    {
     "data": {
      "text/plain": [
       "Web ID                                    0\n",
       "Region of Incident                        0\n",
       "Reported Date                             0\n",
       "Reported Year                             0\n",
       "Reported Month                            0\n",
       "Number Dead                               0\n",
       "Minimum Estimated Number of Missing       0\n",
       "Total Dead and Missing                    0\n",
       "Number of Survivors                       0\n",
       "Number of Females                         0\n",
       "Number of Males                           0\n",
       "Number of Children                        0\n",
       "Cause of Death                            0\n",
       "Location Description                      0\n",
       "Information Source                        0\n",
       "Location Coordinates                      0\n",
       "Migration Route                        2673\n",
       "URL                                    2141\n",
       "UNSD Geographical Grouping                0\n",
       "Source Quality                            0\n",
       "dtype: int64"
      ]
     },
     "execution_count": 9,
     "metadata": {},
     "output_type": "execute_result"
    }
   ],
   "source": [
    "data.isnull().sum()"
   ]
  },
  {
   "cell_type": "code",
   "execution_count": 10,
   "metadata": {},
   "outputs": [],
   "source": [
    "data['Latitude'], data['Longtitude'] = data['Location Coordinates'].str.split(', ').str"
   ]
  },
  {
   "cell_type": "code",
   "execution_count": 11,
   "metadata": {},
   "outputs": [
    {
     "data": {
      "text/html": [
       "<div>\n",
       "<style scoped>\n",
       "    .dataframe tbody tr th:only-of-type {\n",
       "        vertical-align: middle;\n",
       "    }\n",
       "\n",
       "    .dataframe tbody tr th {\n",
       "        vertical-align: top;\n",
       "    }\n",
       "\n",
       "    .dataframe thead th {\n",
       "        text-align: right;\n",
       "    }\n",
       "</style>\n",
       "<table border=\"1\" class=\"dataframe\">\n",
       "  <thead>\n",
       "    <tr style=\"text-align: right;\">\n",
       "      <th></th>\n",
       "      <th>Web ID</th>\n",
       "      <th>Region of Incident</th>\n",
       "      <th>Reported Date</th>\n",
       "      <th>Reported Year</th>\n",
       "      <th>Reported Month</th>\n",
       "      <th>Number Dead</th>\n",
       "      <th>Minimum Estimated Number of Missing</th>\n",
       "      <th>Total Dead and Missing</th>\n",
       "      <th>Number of Survivors</th>\n",
       "      <th>Number of Females</th>\n",
       "      <th>...</th>\n",
       "      <th>Cause of Death</th>\n",
       "      <th>Location Description</th>\n",
       "      <th>Information Source</th>\n",
       "      <th>Location Coordinates</th>\n",
       "      <th>Migration Route</th>\n",
       "      <th>URL</th>\n",
       "      <th>UNSD Geographical Grouping</th>\n",
       "      <th>Source Quality</th>\n",
       "      <th>Latitude</th>\n",
       "      <th>Longtitude</th>\n",
       "    </tr>\n",
       "  </thead>\n",
       "  <tbody>\n",
       "    <tr>\n",
       "      <th>0</th>\n",
       "      <td>51591</td>\n",
       "      <td>Mediterranean</td>\n",
       "      <td>March 28, 2019</td>\n",
       "      <td>2019</td>\n",
       "      <td>Mar</td>\n",
       "      <td>3</td>\n",
       "      <td>-1</td>\n",
       "      <td>2</td>\n",
       "      <td>36</td>\n",
       "      <td>0</td>\n",
       "      <td>...</td>\n",
       "      <td>Presumed drowning</td>\n",
       "      <td>Off the coast of Chios, Greece</td>\n",
       "      <td>Hellenic Coast Guard via IOM Greece</td>\n",
       "      <td>38.362368696592, 26.172509473654</td>\n",
       "      <td>Eastern Mediterranean</td>\n",
       "      <td>NaN</td>\n",
       "      <td>Uncategorized</td>\n",
       "      <td>5</td>\n",
       "      <td>38.362369</td>\n",
       "      <td>26.172509</td>\n",
       "    </tr>\n",
       "    <tr>\n",
       "      <th>1</th>\n",
       "      <td>51588</td>\n",
       "      <td>Mediterranean</td>\n",
       "      <td>March 26, 2019</td>\n",
       "      <td>2019</td>\n",
       "      <td>Mar</td>\n",
       "      <td>4</td>\n",
       "      <td>0</td>\n",
       "      <td>4</td>\n",
       "      <td>11</td>\n",
       "      <td>3</td>\n",
       "      <td>...</td>\n",
       "      <td>Presumed drowning</td>\n",
       "      <td>Off the coast of Ayvacık district, Çanakkale p...</td>\n",
       "      <td>Turkish Coast Guard via IOM Turkey</td>\n",
       "      <td>39.441975591614, 26.378816195919</td>\n",
       "      <td>Eastern Mediterranean</td>\n",
       "      <td>http://bit.ly/2YmiPAN</td>\n",
       "      <td>Uncategorized</td>\n",
       "      <td>5</td>\n",
       "      <td>39.441976</td>\n",
       "      <td>26.378816</td>\n",
       "    </tr>\n",
       "    <tr>\n",
       "      <th>2</th>\n",
       "      <td>51589</td>\n",
       "      <td>Mediterranean</td>\n",
       "      <td>March 26, 2019</td>\n",
       "      <td>2019</td>\n",
       "      <td>Mar</td>\n",
       "      <td>1</td>\n",
       "      <td>0</td>\n",
       "      <td>1</td>\n",
       "      <td>0</td>\n",
       "      <td>0</td>\n",
       "      <td>...</td>\n",
       "      <td>Presumed drowning</td>\n",
       "      <td>Body recovered on Playa del Tarajal, Ceuta, Sp...</td>\n",
       "      <td>Ceuta al día, El Pueblo de Ceuta</td>\n",
       "      <td>35.871901875921, -5.343037665842</td>\n",
       "      <td>Western Mediterranean</td>\n",
       "      <td>http://bit.ly/2uyj7qO, http://bit.ly/2uwj5zC</td>\n",
       "      <td>Uncategorized</td>\n",
       "      <td>3</td>\n",
       "      <td>35.871902</td>\n",
       "      <td>-5.343038</td>\n",
       "    </tr>\n",
       "    <tr>\n",
       "      <th>3</th>\n",
       "      <td>51590</td>\n",
       "      <td>Mediterranean</td>\n",
       "      <td>March 26, 2019</td>\n",
       "      <td>2019</td>\n",
       "      <td>Mar</td>\n",
       "      <td>1</td>\n",
       "      <td>0</td>\n",
       "      <td>1</td>\n",
       "      <td>0</td>\n",
       "      <td>0</td>\n",
       "      <td>...</td>\n",
       "      <td>Presumed drowning</td>\n",
       "      <td>Body recovered on beach near Tetouan, Morocco ...</td>\n",
       "      <td>El Pueblo de Ceuta</td>\n",
       "      <td>35.635115912988, -5.275650103548</td>\n",
       "      <td>Western Mediterranean</td>\n",
       "      <td>http://bit.ly/2uwj5zC</td>\n",
       "      <td>Uncategorized</td>\n",
       "      <td>1</td>\n",
       "      <td>35.635116</td>\n",
       "      <td>-5.275650</td>\n",
       "    </tr>\n",
       "    <tr>\n",
       "      <th>4</th>\n",
       "      <td>51587</td>\n",
       "      <td>Central America</td>\n",
       "      <td>March 25, 2019</td>\n",
       "      <td>2019</td>\n",
       "      <td>Mar</td>\n",
       "      <td>1</td>\n",
       "      <td>0</td>\n",
       "      <td>1</td>\n",
       "      <td>0</td>\n",
       "      <td>0</td>\n",
       "      <td>...</td>\n",
       "      <td>Fall from train</td>\n",
       "      <td>Train tracks in Teacalco, Tlaxcala, Mexico</td>\n",
       "      <td>Megalópolis, Línea de contraste</td>\n",
       "      <td>19.334475177429, -98.069823987538</td>\n",
       "      <td>NaN</td>\n",
       "      <td>http://bit.ly/2uvDIvH, http://bit.ly/2TXAFLS</td>\n",
       "      <td>Central America</td>\n",
       "      <td>3</td>\n",
       "      <td>19.334475</td>\n",
       "      <td>-98.069824</td>\n",
       "    </tr>\n",
       "  </tbody>\n",
       "</table>\n",
       "<p>5 rows × 22 columns</p>\n",
       "</div>"
      ],
      "text/plain": [
       "   Web ID Region of Incident   Reported Date  Reported Year Reported Month  \\\n",
       "0   51591      Mediterranean  March 28, 2019           2019            Mar   \n",
       "1   51588      Mediterranean  March 26, 2019           2019            Mar   \n",
       "2   51589      Mediterranean  March 26, 2019           2019            Mar   \n",
       "3   51590      Mediterranean  March 26, 2019           2019            Mar   \n",
       "4   51587    Central America  March 25, 2019           2019            Mar   \n",
       "\n",
       "   Number Dead  Minimum Estimated Number of Missing  Total Dead and Missing  \\\n",
       "0            3                                   -1                       2   \n",
       "1            4                                    0                       4   \n",
       "2            1                                    0                       1   \n",
       "3            1                                    0                       1   \n",
       "4            1                                    0                       1   \n",
       "\n",
       "   Number of Survivors  Number of Females  ...     Cause of Death  \\\n",
       "0                   36                  0  ...  Presumed drowning   \n",
       "1                   11                  3  ...  Presumed drowning   \n",
       "2                    0                  0  ...  Presumed drowning   \n",
       "3                    0                  0  ...  Presumed drowning   \n",
       "4                    0                  0  ...    Fall from train   \n",
       "\n",
       "                                Location Description  \\\n",
       "0                     Off the coast of Chios, Greece   \n",
       "1  Off the coast of Ayvacık district, Çanakkale p...   \n",
       "2  Body recovered on Playa del Tarajal, Ceuta, Sp...   \n",
       "3  Body recovered on beach near Tetouan, Morocco ...   \n",
       "4         Train tracks in Teacalco, Tlaxcala, Mexico   \n",
       "\n",
       "                    Information Source               Location Coordinates  \\\n",
       "0  Hellenic Coast Guard via IOM Greece   38.362368696592, 26.172509473654   \n",
       "1   Turkish Coast Guard via IOM Turkey   39.441975591614, 26.378816195919   \n",
       "2     Ceuta al día, El Pueblo de Ceuta   35.871901875921, -5.343037665842   \n",
       "3                   El Pueblo de Ceuta   35.635115912988, -5.275650103548   \n",
       "4      Megalópolis, Línea de contraste  19.334475177429, -98.069823987538   \n",
       "\n",
       "         Migration Route                                           URL  \\\n",
       "0  Eastern Mediterranean                                           NaN   \n",
       "1  Eastern Mediterranean                         http://bit.ly/2YmiPAN   \n",
       "2  Western Mediterranean  http://bit.ly/2uyj7qO, http://bit.ly/2uwj5zC   \n",
       "3  Western Mediterranean                         http://bit.ly/2uwj5zC   \n",
       "4                    NaN  http://bit.ly/2uvDIvH, http://bit.ly/2TXAFLS   \n",
       "\n",
       "  UNSD Geographical Grouping Source Quality   Latitude  Longtitude  \n",
       "0              Uncategorized              5  38.362369   26.172509  \n",
       "1              Uncategorized              5  39.441976   26.378816  \n",
       "2              Uncategorized              3  35.871902   -5.343038  \n",
       "3              Uncategorized              1  35.635116   -5.275650  \n",
       "4            Central America              3  19.334475  -98.069824  \n",
       "\n",
       "[5 rows x 22 columns]"
      ]
     },
     "execution_count": 11,
     "metadata": {},
     "output_type": "execute_result"
    }
   ],
   "source": [
    "data['Latitude']=data['Latitude'].astype(float)\n",
    "data['Longtitude']=data['Longtitude'].astype(float)\n",
    "data.head()"
   ]
  },
  {
   "cell_type": "code",
   "execution_count": 12,
   "metadata": {},
   "outputs": [],
   "source": [
    "toDrop =[\"Web ID\",\"Reported Date\",\"URL\",\"Location Coordinates\"]\n",
    "data.drop(toDrop, axis=1, inplace=True)\n"
   ]
  },
  {
   "cell_type": "code",
   "execution_count": 13,
   "metadata": {},
   "outputs": [],
   "source": [
    "data.loc[data['Cause of Death'].str.contains('Sickness|sickness'), 'Cause of Death'] = 'Health Condition'\n",
    "data.loc[data['Cause of Death'].str.contains('diabetic|heart attack|meningitis|virus|cancer|bleeding|insuline|inhalation'), 'Cause of Death'] = 'Health Condition'\n",
    "data.loc[data['Cause of Death'].str.contains('Organ|Coronary|Envenomation|Post-partum|Respiratory|Hypoglycemia'), 'Cause of Death'] = 'Health Condition'\n",
    "data.loc[data['Cause of Death'].str.contains('harsh weather|Harsh weather'), 'Cause of Death'] = 'Harsh conditions'\n",
    "data.loc[data['Cause of Death'].str.contains('Harsh conditions|harsh conditions'), 'Cause of Death'] = 'Harsh conditions'\n",
    "data.loc[data['Cause of Death'].str.contains('Exhaustion|Heat stroke'), 'Cause of Death'] = 'Harsh conditions'\n",
    "data.loc[data['Cause of Death'].str.contains('Unknown|unknown'), 'Cause of Death'] = 'Unknown'\n",
    "data.loc[data['Cause of Death'].str.contains('Starvation|starvation'), 'Cause of Death'] = 'Starvation'\n",
    "data.loc[data['Cause of Death'].str.contains('dehydration|Dehydration'), 'Cause of Death'] = 'Dehydration'\n",
    "data.loc[data['Cause of Death'].str.contains('Drowning|drowning|Pulmonary|respiratory|lung|bronchial|pneumonia|Pneumonia'), 'Cause of Death'] = 'Drowning'\n",
    "data.loc[data['Cause of Death'].str.contains('hyperthermia|Hyperthermia'), 'Cause of Death'] = 'Hyperthermia'\n",
    "data.loc[data['Cause of Death'].str.contains('hypothermia|Hypothermia'), 'Cause of Death'] = 'Hypothermia'\n",
    "data.loc[data['Cause of Death'].str.contains('asphyxiation|suffocation'), 'Cause of Death'] = 'Asphyxiation'\n",
    "data.loc[data['Cause of Death'].str.contains('train|bus|vehicle|truck|boat|car|road|van|plane'), 'Cause of Death'] = 'Vehicle Accident'\n",
    "data.loc[data['Cause of Death'].str.contains('Train|Bus|Vehicle|Truck|Boat|Car|Road|Van|Plane'), 'Cause of Death'] = 'Vehicle Accident'\n",
    "data.loc[data['Cause of Death'].str.contains('murder|stab|shot|violent|blunt force|violence|beat-up|fight|murdered|death'), 'Cause of Death'] = 'Murder'\n",
    "data.loc[data['Cause of Death'].str.contains('Murder|Stab|Shot|Violent|Blunt force|Violence|Beat-up|Fight|Murdered|Death'), 'Cause of Death'] = 'Murder'\n",
    "data.loc[data['Cause of Death'].str.contains('Hanging|Apache|mortar|landmine|Rape|Gassed'), 'Cause of Death'] = 'Murder'\n",
    "data.loc[data['Cause of Death'].str.contains('crushed to death|crush|Crush|Rockslide'), 'Cause of Death'] = 'Crushed'\n",
    "data.loc[data['Cause of Death'].str.contains('burn|burns|burned|fire'), 'Cause of Death'] = 'Burned'\n",
    "data.loc[data['Cause of Death'].str.contains('Burn|Burns|Burned|Fire'), 'Cause of Death'] = 'Burned'\n",
    "data.loc[data['Cause of Death'].str.contains('electrocution|Electrocution'), 'Cause of Death'] = 'Electrocution' \n",
    "data.loc[data['Cause of Death'].str.contains('Fall|fall'), 'Cause of Death'] = 'Fallen' \n",
    "data.loc[data['Cause of Death'].str.contains('crocodile|hippopotamus|hippoptamus'), 'Cause of Death'] = 'Killed by animals'\n",
    "data.loc[data['Cause of Death'].str.contains('exposure|Exposure'), 'Cause of Death'] = 'Exposure'"
   ]
  },
  {
   "cell_type": "code",
   "execution_count": 14,
   "metadata": {
    "scrolled": true
   },
   "outputs": [
    {
     "data": {
      "text/html": [
       "<div>\n",
       "<style scoped>\n",
       "    .dataframe tbody tr th:only-of-type {\n",
       "        vertical-align: middle;\n",
       "    }\n",
       "\n",
       "    .dataframe tbody tr th {\n",
       "        vertical-align: top;\n",
       "    }\n",
       "\n",
       "    .dataframe thead th {\n",
       "        text-align: right;\n",
       "    }\n",
       "</style>\n",
       "<table border=\"1\" class=\"dataframe\">\n",
       "  <thead>\n",
       "    <tr style=\"text-align: right;\">\n",
       "      <th></th>\n",
       "      <th>Region of Incident</th>\n",
       "      <th>Reported Year</th>\n",
       "      <th>Reported Month</th>\n",
       "      <th>Number Dead</th>\n",
       "      <th>Minimum Estimated Number of Missing</th>\n",
       "      <th>Total Dead and Missing</th>\n",
       "      <th>Number of Survivors</th>\n",
       "      <th>Number of Females</th>\n",
       "      <th>Number of Males</th>\n",
       "      <th>Number of Children</th>\n",
       "      <th>Cause of Death</th>\n",
       "      <th>Location Description</th>\n",
       "      <th>Information Source</th>\n",
       "      <th>Migration Route</th>\n",
       "      <th>UNSD Geographical Grouping</th>\n",
       "      <th>Source Quality</th>\n",
       "      <th>Latitude</th>\n",
       "      <th>Longtitude</th>\n",
       "    </tr>\n",
       "  </thead>\n",
       "  <tbody>\n",
       "    <tr>\n",
       "      <th>0</th>\n",
       "      <td>Mediterranean</td>\n",
       "      <td>2019</td>\n",
       "      <td>Mar</td>\n",
       "      <td>3</td>\n",
       "      <td>-1</td>\n",
       "      <td>2</td>\n",
       "      <td>36</td>\n",
       "      <td>0</td>\n",
       "      <td>2</td>\n",
       "      <td>0</td>\n",
       "      <td>Drowning</td>\n",
       "      <td>Off the coast of Chios, Greece</td>\n",
       "      <td>Hellenic Coast Guard via IOM Greece</td>\n",
       "      <td>Eastern Mediterranean</td>\n",
       "      <td>Uncategorized</td>\n",
       "      <td>5</td>\n",
       "      <td>38.362369</td>\n",
       "      <td>26.172509</td>\n",
       "    </tr>\n",
       "    <tr>\n",
       "      <th>1</th>\n",
       "      <td>Mediterranean</td>\n",
       "      <td>2019</td>\n",
       "      <td>Mar</td>\n",
       "      <td>4</td>\n",
       "      <td>0</td>\n",
       "      <td>4</td>\n",
       "      <td>11</td>\n",
       "      <td>3</td>\n",
       "      <td>1</td>\n",
       "      <td>1</td>\n",
       "      <td>Drowning</td>\n",
       "      <td>Off the coast of Ayvacık district, Çanakkale p...</td>\n",
       "      <td>Turkish Coast Guard via IOM Turkey</td>\n",
       "      <td>Eastern Mediterranean</td>\n",
       "      <td>Uncategorized</td>\n",
       "      <td>5</td>\n",
       "      <td>39.441976</td>\n",
       "      <td>26.378816</td>\n",
       "    </tr>\n",
       "    <tr>\n",
       "      <th>2</th>\n",
       "      <td>Mediterranean</td>\n",
       "      <td>2019</td>\n",
       "      <td>Mar</td>\n",
       "      <td>1</td>\n",
       "      <td>0</td>\n",
       "      <td>1</td>\n",
       "      <td>0</td>\n",
       "      <td>0</td>\n",
       "      <td>1</td>\n",
       "      <td>0</td>\n",
       "      <td>Drowning</td>\n",
       "      <td>Body recovered on Playa del Tarajal, Ceuta, Sp...</td>\n",
       "      <td>Ceuta al día, El Pueblo de Ceuta</td>\n",
       "      <td>Western Mediterranean</td>\n",
       "      <td>Uncategorized</td>\n",
       "      <td>3</td>\n",
       "      <td>35.871902</td>\n",
       "      <td>-5.343038</td>\n",
       "    </tr>\n",
       "    <tr>\n",
       "      <th>3</th>\n",
       "      <td>Mediterranean</td>\n",
       "      <td>2019</td>\n",
       "      <td>Mar</td>\n",
       "      <td>1</td>\n",
       "      <td>0</td>\n",
       "      <td>1</td>\n",
       "      <td>0</td>\n",
       "      <td>0</td>\n",
       "      <td>1</td>\n",
       "      <td>0</td>\n",
       "      <td>Drowning</td>\n",
       "      <td>Body recovered on beach near Tetouan, Morocco ...</td>\n",
       "      <td>El Pueblo de Ceuta</td>\n",
       "      <td>Western Mediterranean</td>\n",
       "      <td>Uncategorized</td>\n",
       "      <td>1</td>\n",
       "      <td>35.635116</td>\n",
       "      <td>-5.275650</td>\n",
       "    </tr>\n",
       "    <tr>\n",
       "      <th>4</th>\n",
       "      <td>Central America</td>\n",
       "      <td>2019</td>\n",
       "      <td>Mar</td>\n",
       "      <td>1</td>\n",
       "      <td>0</td>\n",
       "      <td>1</td>\n",
       "      <td>0</td>\n",
       "      <td>0</td>\n",
       "      <td>1</td>\n",
       "      <td>0</td>\n",
       "      <td>Vehicle Accident</td>\n",
       "      <td>Train tracks in Teacalco, Tlaxcala, Mexico</td>\n",
       "      <td>Megalópolis, Línea de contraste</td>\n",
       "      <td>NaN</td>\n",
       "      <td>Central America</td>\n",
       "      <td>3</td>\n",
       "      <td>19.334475</td>\n",
       "      <td>-98.069824</td>\n",
       "    </tr>\n",
       "  </tbody>\n",
       "</table>\n",
       "</div>"
      ],
      "text/plain": [
       "  Region of Incident  Reported Year Reported Month  Number Dead  \\\n",
       "0      Mediterranean           2019            Mar            3   \n",
       "1      Mediterranean           2019            Mar            4   \n",
       "2      Mediterranean           2019            Mar            1   \n",
       "3      Mediterranean           2019            Mar            1   \n",
       "4    Central America           2019            Mar            1   \n",
       "\n",
       "   Minimum Estimated Number of Missing  Total Dead and Missing  \\\n",
       "0                                   -1                       2   \n",
       "1                                    0                       4   \n",
       "2                                    0                       1   \n",
       "3                                    0                       1   \n",
       "4                                    0                       1   \n",
       "\n",
       "   Number of Survivors  Number of Females  Number of Males  \\\n",
       "0                   36                  0                2   \n",
       "1                   11                  3                1   \n",
       "2                    0                  0                1   \n",
       "3                    0                  0                1   \n",
       "4                    0                  0                1   \n",
       "\n",
       "   Number of Children    Cause of Death  \\\n",
       "0                   0          Drowning   \n",
       "1                   1          Drowning   \n",
       "2                   0          Drowning   \n",
       "3                   0          Drowning   \n",
       "4                   0  Vehicle Accident   \n",
       "\n",
       "                                Location Description  \\\n",
       "0                     Off the coast of Chios, Greece   \n",
       "1  Off the coast of Ayvacık district, Çanakkale p...   \n",
       "2  Body recovered on Playa del Tarajal, Ceuta, Sp...   \n",
       "3  Body recovered on beach near Tetouan, Morocco ...   \n",
       "4         Train tracks in Teacalco, Tlaxcala, Mexico   \n",
       "\n",
       "                    Information Source        Migration Route  \\\n",
       "0  Hellenic Coast Guard via IOM Greece  Eastern Mediterranean   \n",
       "1   Turkish Coast Guard via IOM Turkey  Eastern Mediterranean   \n",
       "2     Ceuta al día, El Pueblo de Ceuta  Western Mediterranean   \n",
       "3                   El Pueblo de Ceuta  Western Mediterranean   \n",
       "4      Megalópolis, Línea de contraste                    NaN   \n",
       "\n",
       "  UNSD Geographical Grouping  Source Quality   Latitude  Longtitude  \n",
       "0              Uncategorized               5  38.362369   26.172509  \n",
       "1              Uncategorized               5  39.441976   26.378816  \n",
       "2              Uncategorized               3  35.871902   -5.343038  \n",
       "3              Uncategorized               1  35.635116   -5.275650  \n",
       "4            Central America               3  19.334475  -98.069824  "
      ]
     },
     "execution_count": 14,
     "metadata": {},
     "output_type": "execute_result"
    }
   ],
   "source": [
    "data.head()"
   ]
  },
  {
   "cell_type": "markdown",
   "metadata": {},
   "source": [
    "# 3-data visualization"
   ]
  },
  {
   "cell_type": "code",
   "execution_count": 15,
   "metadata": {},
   "outputs": [
    {
     "data": {
      "image/png": "[encoded data removed]",
      "text/plain": [
       "<Figure size 1440x720 with 1 Axes>"
      ]
     },
     "metadata": {
      "needs_background": "light"
     },
     "output_type": "display_data"
    }
   ],
   "source": [
    "data.pivot_table(['Number of Males','Number of Females','Number of Children'], \n",
    "                 index='Reported Year',\n",
    "                 aggfunc={'Number of Males': np.sum,'Number of Females': np.sum,'Number of Children': np.sum}).plot(figsize=(20, 10), kind='bar')\n",
    "plt.ylabel('Count')\n",
    "plt.title('Total Dead and Missing by Sex and Age and Year', fontsize=20)\n",
    "plt.show()"
   ]
  },
  {
   "cell_type": "code",
   "execution_count": 17,
   "metadata": {},
   "outputs": [
    {
     "data": {
      "image/png": "[encoded data removed]",
      "text/plain": [
       "<Figure size 1080x504 with 2 Axes>"
      ]
     },
     "metadata": {
      "needs_background": "light"
     },
     "output_type": "display_data"
    }
   ],
   "source": [
    "plt.subplot(2,2,2)\n",
    "plt.rcParams[\"figure.figsize\"] = (15,7)\n",
    "data[\"Reported Month\"].value_counts().plot(kind = \"bar\")\n",
    "plt.title('number of migration depending on the month')\n",
    "plt.savefig('purchase_fre_job')\n",
    "\n",
    "\n",
    "plt.subplot(2,2,1)\n",
    "plt.rcParams[\"figure.figsize\"] = (15,7)\n",
    "data[\"Reported Year\"].value_counts().plot(kind = \"bar\")\n",
    "plt.title('number of migration depending on the year')\n",
    "plt.savefig('purchase_fre_job')\n",
    "\n",
    "\n"
   ]
  },
  {
   "cell_type": "code",
   "execution_count": 18,
   "metadata": {},
   "outputs": [
    {
     "data": {
      "image/png": "[encoded data removed]",
      "text/plain": [
       "<Figure size 864x504 with 1 Axes>"
      ]
     },
     "metadata": {
      "needs_background": "light"
     },
     "output_type": "display_data"
    }
   ],
   "source": [
    "plt.rcParams[\"figure.figsize\"] = (12,7)\n",
    "data[\"Migration Route\"].value_counts().plot(kind = \"bar\")\n",
    "plt.title('the most used migration route')\n",
    "plt.savefig('purchase_fre_job')"
   ]
  },
  {
   "cell_type": "code",
   "execution_count": 19,
   "metadata": {},
   "outputs": [
    {
     "data": {
      "image/png": "[encoded data removed]",
      "text/plain": [
       "<Figure size 1080x504 with 1 Axes>"
      ]
     },
     "metadata": {
      "needs_background": "light"
     },
     "output_type": "display_data"
    }
   ],
   "source": [
    "fig=plt.figure(figsize=(15,7))\n",
    "data['Region of Incident'].value_counts().plot(kind='bar')\n",
    "plt.title('Region of Incident',fontsize=20)\n",
    "plt.show()"
   ]
  },
  {
   "cell_type": "code",
   "execution_count": 20,
   "metadata": {},
   "outputs": [
    {
     "name": "stderr",
     "output_type": "stream",
     "text": [
      "c:\\users\\asus\\appdata\\local\\programs\\python\\python36-32\\lib\\site-packages\\seaborn\\axisgrid.py:230: UserWarning: The `size` paramter has been renamed to `height`; please update your code.\n",
      "  warnings.warn(msg, UserWarning)\n",
      "c:\\users\\asus\\appdata\\local\\programs\\python\\python36-32\\lib\\site-packages\\seaborn\\axisgrid.py:715: UserWarning: Using the barplot function without specifying `order` is likely to produce an incorrect plot.\n",
      "  warnings.warn(warning)\n"
     ]
    },
    {
     "data": {
      "image/png": "[encoded data removed]",
      "text/plain": [
       "<Figure size 1160x720 with 1 Axes>"
      ]
     },
     "metadata": {
      "needs_background": "light"
     },
     "output_type": "display_data"
    }
   ],
   "source": [
    "grid= sns.FacetGrid(data[['Region of Incident', 'Total Dead and Missing']]. groupby(['Region of Incident'], as_index=False).mean(),size=10,aspect=1.6)\n",
    "grid.map(sns.barplot,'Region of Incident','Total Dead and Missing',alpha=.3)\n",
    "grid.add_legend()\n",
    "plt.title('total dead and missing number depending on location')\n",
    "plt.savefig('purchase_fre_job')"
   ]
  },
  {
   "cell_type": "code",
   "execution_count": 21,
   "metadata": {},
   "outputs": [
    {
     "data": {
      "image/png": "[encoded data removed]",
      "text/plain": [
       "<Figure size 1160x720 with 1 Axes>"
      ]
     },
     "metadata": {
      "needs_background": "light"
     },
     "output_type": "display_data"
    }
   ],
   "source": [
    "grid= sns.FacetGrid(data[['Region of Incident', 'Number of Survivors']]. groupby(['Region of Incident'], as_index=False).mean(),size=10,aspect=1.6)\n",
    "grid.map(sns.barplot,'Region of Incident','Number of Survivors',alpha=.3)\n",
    "grid.add_legend()\n",
    "plt.title('Number of Survivors depending on location')\n",
    "plt.savefig('purchase_fre_job')"
   ]
  },
  {
   "cell_type": "code",
   "execution_count": 22,
   "metadata": {},
   "outputs": [
    {
     "data": {
      "text/plain": [
       "<matplotlib.axes._subplots.AxesSubplot at 0xbbbb970>"
      ]
     },
     "execution_count": 22,
     "metadata": {},
     "output_type": "execute_result"
    },
    {
     "data": {
      "image/png": "[encoded data removed]",
      "text/plain": [
       "<Figure size 1440x720 with 1 Axes>"
      ]
     },
     "metadata": {},
     "output_type": "display_data"
    }
   ],
   "source": [
    "data['Cause of Death'].value_counts().plot(kind='pie',figsize=(20, 10), title= 'cause of death' )"
   ]
  },
  {
   "cell_type": "code",
   "execution_count": 23,
   "metadata": {},
   "outputs": [
    {
     "name": "stdout",
     "output_type": "stream",
     "text": [
      "we can see from this plot that most of the features are uncorellated but we can see that number of dead and missing is correlated to the number of children\n"
     ]
    },
    {
     "data": {
      "image/png": "[encoded data removed]",
      "text/plain": [
       "<Figure size 864x720 with 2 Axes>"
      ]
     },
     "metadata": {
      "needs_background": "light"
     },
     "output_type": "display_data"
    }
   ],
   "source": [
    "r = data.corr()\n",
    "s , ax = plt.subplots( figsize =( 12 , 10 ) )\n",
    "cmap = sns.diverging_palette( 220 , 10 , as_cmap = True )\n",
    "s = sns.heatmap(r, cmap = cmap,square=True, cbar_kws={ 'shrink' : .9 }, ax=ax, annot = True, annot_kws = { 'fontsize' : 12 })\n",
    "\n",
    "print('we can see from this plot that most of the features are uncorellated but we can see that number of dead and missing is correlated to the number of children')"
   ]
  },
  {
   "cell_type": "markdown",
   "metadata": {},
   "source": [
    "# 3-Encoding Data"
   ]
  },
  {
   "cell_type": "code",
   "execution_count": 24,
   "metadata": {},
   "outputs": [],
   "source": [
    "data1=data.drop(columns=['Location Description','Information Source','UNSD Geographical Grouping'],axis=1)"
   ]
  },
  {
   "cell_type": "code",
   "execution_count": 25,
   "metadata": {},
   "outputs": [],
   "source": [
    "routeEnc={\n",
    "    'Central America to US':0,\n",
    "    'Central Mediterranean':1,\n",
    "    'Eastern Mediterranean':2,\n",
    "    'Western Balkans':3,\n",
    "    'Calais to United Kingdom':4,\n",
    "    'Western African':5,\n",
    "    'Horn Africa to Yemen':6,\n",
    "    'Italy to France':7,\n",
    "    'Darien Gap':8,\n",
    "    'Caribbean to Central America':9,\n",
    "    'Dominican Republic to Puerto Rico':10,\n",
    "    'Venezuela to Curaçao':11,\n",
    "    'Malaysia to Indonesia':12,\n",
    "    'From Haiti to Dajabon, Dominican Republic':13\n",
    "}"
   ]
  },
  {
   "cell_type": "code",
   "execution_count": 26,
   "metadata": {},
   "outputs": [],
   "source": [
    "data1['Migration Route']=data1['Migration Route'].map(routeEnc)"
   ]
  },
  {
   "cell_type": "code",
   "execution_count": 27,
   "metadata": {},
   "outputs": [],
   "source": [
    "data1['Migration Route'].fillna(-1,inplace=True)"
   ]
  },
  {
   "cell_type": "code",
   "execution_count": 28,
   "metadata": {},
   "outputs": [],
   "source": [
    "regionEnc={\n",
    "    'US-Mexico Border':0,\n",
    "    'North Africa':1,\n",
    "    'Mediterranean':2,\n",
    "    'Sub-Saharan Africa':3,\n",
    "    'Central America':4,\n",
    "    'Europe':5,\n",
    "    'Horn of Africa':6,\n",
    "    'Middle East':7,\n",
    "    'South Asia':8,\n",
    "    'Southeast Asia':9,\n",
    "    'Caribbean':10,\n",
    "    'South America':11,\n",
    "    'East Asia':12,\n",
    "    'Central Asia':13,\n",
    "    'North America':14  \n",
    "}\n",
    "monthEnc={\n",
    "    'Jan':1,\n",
    "    'Feb':2,\n",
    "    'Mar':3,\n",
    "    'Apr':4,\n",
    "    'May':5,\n",
    "    'Jun':6,\n",
    "    'Jul':7,\n",
    "    'Aug':8,\n",
    "    'Sep':9,\n",
    "    'Oct':10,\n",
    "    'Nov':11,\n",
    "    'Dec':12\n",
    "}"
   ]
  },
  {
   "cell_type": "code",
   "execution_count": 29,
   "metadata": {},
   "outputs": [],
   "source": [
    "data1['Reported Month']=data1['Reported Month'].map(monthEnc)"
   ]
  },
  {
   "cell_type": "code",
   "execution_count": 30,
   "metadata": {
    "scrolled": true
   },
   "outputs": [],
   "source": [
    "dumbdata=pd.get_dummies(data[\"Cause of Death\"])\n",
    "data1=data1.join(dumbdata)\n",
    "data1=data1.drop([\"Cause of Death\",\"Suicide\"],axis=1)"
   ]
  },
  {
   "cell_type": "code",
   "execution_count": 31,
   "metadata": {},
   "outputs": [],
   "source": [
    "ndata1=data1.copy(deep=True)\n",
    "data1['Region of Incident']=data1['Region of Incident'].map(regionEnc)"
   ]
  },
  {
   "cell_type": "code",
   "execution_count": 32,
   "metadata": {},
   "outputs": [
    {
     "data": {
      "text/html": [
       "<div>\n",
       "<style scoped>\n",
       "    .dataframe tbody tr th:only-of-type {\n",
       "        vertical-align: middle;\n",
       "    }\n",
       "\n",
       "    .dataframe tbody tr th {\n",
       "        vertical-align: top;\n",
       "    }\n",
       "\n",
       "    .dataframe thead th {\n",
       "        text-align: right;\n",
       "    }\n",
       "</style>\n",
       "<table border=\"1\" class=\"dataframe\">\n",
       "  <thead>\n",
       "    <tr style=\"text-align: right;\">\n",
       "      <th></th>\n",
       "      <th>Region of Incident</th>\n",
       "      <th>Reported Year</th>\n",
       "      <th>Reported Month</th>\n",
       "      <th>Number Dead</th>\n",
       "      <th>Minimum Estimated Number of Missing</th>\n",
       "      <th>Total Dead and Missing</th>\n",
       "      <th>Number of Survivors</th>\n",
       "      <th>Number of Females</th>\n",
       "      <th>Number of Males</th>\n",
       "      <th>Number of Children</th>\n",
       "      <th>...</th>\n",
       "      <th>Health Condition</th>\n",
       "      <th>Hyperthermia</th>\n",
       "      <th>Hypothermia</th>\n",
       "      <th>Killed by animals</th>\n",
       "      <th>Mixed</th>\n",
       "      <th>Murder</th>\n",
       "      <th>Starvation</th>\n",
       "      <th>Suffocation</th>\n",
       "      <th>Unknown</th>\n",
       "      <th>Vehicle Accident</th>\n",
       "    </tr>\n",
       "  </thead>\n",
       "  <tbody>\n",
       "    <tr>\n",
       "      <th>0</th>\n",
       "      <td>2</td>\n",
       "      <td>2019</td>\n",
       "      <td>3</td>\n",
       "      <td>3</td>\n",
       "      <td>-1</td>\n",
       "      <td>2</td>\n",
       "      <td>36</td>\n",
       "      <td>0</td>\n",
       "      <td>2</td>\n",
       "      <td>0</td>\n",
       "      <td>...</td>\n",
       "      <td>0</td>\n",
       "      <td>0</td>\n",
       "      <td>0</td>\n",
       "      <td>0</td>\n",
       "      <td>0</td>\n",
       "      <td>0</td>\n",
       "      <td>0</td>\n",
       "      <td>0</td>\n",
       "      <td>0</td>\n",
       "      <td>0</td>\n",
       "    </tr>\n",
       "    <tr>\n",
       "      <th>1</th>\n",
       "      <td>2</td>\n",
       "      <td>2019</td>\n",
       "      <td>3</td>\n",
       "      <td>4</td>\n",
       "      <td>0</td>\n",
       "      <td>4</td>\n",
       "      <td>11</td>\n",
       "      <td>3</td>\n",
       "      <td>1</td>\n",
       "      <td>1</td>\n",
       "      <td>...</td>\n",
       "      <td>0</td>\n",
       "      <td>0</td>\n",
       "      <td>0</td>\n",
       "      <td>0</td>\n",
       "      <td>0</td>\n",
       "      <td>0</td>\n",
       "      <td>0</td>\n",
       "      <td>0</td>\n",
       "      <td>0</td>\n",
       "      <td>0</td>\n",
       "    </tr>\n",
       "    <tr>\n",
       "      <th>2</th>\n",
       "      <td>2</td>\n",
       "      <td>2019</td>\n",
       "      <td>3</td>\n",
       "      <td>1</td>\n",
       "      <td>0</td>\n",
       "      <td>1</td>\n",
       "      <td>0</td>\n",
       "      <td>0</td>\n",
       "      <td>1</td>\n",
       "      <td>0</td>\n",
       "      <td>...</td>\n",
       "      <td>0</td>\n",
       "      <td>0</td>\n",
       "      <td>0</td>\n",
       "      <td>0</td>\n",
       "      <td>0</td>\n",
       "      <td>0</td>\n",
       "      <td>0</td>\n",
       "      <td>0</td>\n",
       "      <td>0</td>\n",
       "      <td>0</td>\n",
       "    </tr>\n",
       "    <tr>\n",
       "      <th>3</th>\n",
       "      <td>2</td>\n",
       "      <td>2019</td>\n",
       "      <td>3</td>\n",
       "      <td>1</td>\n",
       "      <td>0</td>\n",
       "      <td>1</td>\n",
       "      <td>0</td>\n",
       "      <td>0</td>\n",
       "      <td>1</td>\n",
       "      <td>0</td>\n",
       "      <td>...</td>\n",
       "      <td>0</td>\n",
       "      <td>0</td>\n",
       "      <td>0</td>\n",
       "      <td>0</td>\n",
       "      <td>0</td>\n",
       "      <td>0</td>\n",
       "      <td>0</td>\n",
       "      <td>0</td>\n",
       "      <td>0</td>\n",
       "      <td>0</td>\n",
       "    </tr>\n",
       "    <tr>\n",
       "      <th>4</th>\n",
       "      <td>4</td>\n",
       "      <td>2019</td>\n",
       "      <td>3</td>\n",
       "      <td>1</td>\n",
       "      <td>0</td>\n",
       "      <td>1</td>\n",
       "      <td>0</td>\n",
       "      <td>0</td>\n",
       "      <td>1</td>\n",
       "      <td>0</td>\n",
       "      <td>...</td>\n",
       "      <td>0</td>\n",
       "      <td>0</td>\n",
       "      <td>0</td>\n",
       "      <td>0</td>\n",
       "      <td>0</td>\n",
       "      <td>0</td>\n",
       "      <td>0</td>\n",
       "      <td>0</td>\n",
       "      <td>0</td>\n",
       "      <td>1</td>\n",
       "    </tr>\n",
       "  </tbody>\n",
       "</table>\n",
       "<p>5 rows × 33 columns</p>\n",
       "</div>"
      ],
      "text/plain": [
       "   Region of Incident  Reported Year  Reported Month  Number Dead  \\\n",
       "0                   2           2019               3            3   \n",
       "1                   2           2019               3            4   \n",
       "2                   2           2019               3            1   \n",
       "3                   2           2019               3            1   \n",
       "4                   4           2019               3            1   \n",
       "\n",
       "   Minimum Estimated Number of Missing  Total Dead and Missing  \\\n",
       "0                                   -1                       2   \n",
       "1                                    0                       4   \n",
       "2                                    0                       1   \n",
       "3                                    0                       1   \n",
       "4                                    0                       1   \n",
       "\n",
       "   Number of Survivors  Number of Females  Number of Males  \\\n",
       "0                   36                  0                2   \n",
       "1                   11                  3                1   \n",
       "2                    0                  0                1   \n",
       "3                    0                  0                1   \n",
       "4                    0                  0                1   \n",
       "\n",
       "   Number of Children  ...  Health Condition  Hyperthermia  Hypothermia  \\\n",
       "0                   0  ...                 0             0            0   \n",
       "1                   1  ...                 0             0            0   \n",
       "2                   0  ...                 0             0            0   \n",
       "3                   0  ...                 0             0            0   \n",
       "4                   0  ...                 0             0            0   \n",
       "\n",
       "   Killed by animals  Mixed  Murder  Starvation  Suffocation  Unknown  \\\n",
       "0                  0      0       0           0            0        0   \n",
       "1                  0      0       0           0            0        0   \n",
       "2                  0      0       0           0            0        0   \n",
       "3                  0      0       0           0            0        0   \n",
       "4                  0      0       0           0            0        0   \n",
       "\n",
       "   Vehicle Accident  \n",
       "0                 0  \n",
       "1                 0  \n",
       "2                 0  \n",
       "3                 0  \n",
       "4                 1  \n",
       "\n",
       "[5 rows x 33 columns]"
      ]
     },
     "execution_count": 32,
     "metadata": {},
     "output_type": "execute_result"
    }
   ],
   "source": [
    "data1.head()"
   ]
  },
  {
   "cell_type": "code",
   "execution_count": 33,
   "metadata": {},
   "outputs": [
    {
     "name": "stdout",
     "output_type": "stream",
     "text": [
      "the percentage of migration where there are children: 12.06%\n",
      "the percentage of migration where there are Females: 16.78%\n"
     ]
    }
   ],
   "source": [
    "print('the percentage of migration where there are children: {:.2f}%'.format(data1[data1['Number of Children']>0]['Number Dead'].count()/data1['Number Dead'].count()*100))\n",
    "print('the percentage of migration where there are Females: {:.2f}%'.format(data1[data1['Number of Females']>0]['Number Dead'].count()/data1['Number Dead'].count()*100))"
   ]
  },
  {
   "cell_type": "markdown",
   "metadata": {},
   "source": [
    "# 4-Data modeling"
   ]
  },
  {
   "cell_type": "markdown",
   "metadata": {},
   "source": [
    "## predicting the number of dead and missing peaple"
   ]
  },
  {
   "cell_type": "markdown",
   "metadata": {},
   "source": [
    "  #### Linear Regression model\n"
   ]
  },
  {
   "cell_type": "code",
   "execution_count": 34,
   "metadata": {},
   "outputs": [],
   "source": [
    "from sklearn.metrics import r2_score\n",
    "from sklearn.model_selection import train_test_split\n",
    "from sklearn.linear_model import LinearRegression"
   ]
  },
  {
   "cell_type": "code",
   "execution_count": 35,
   "metadata": {},
   "outputs": [],
   "source": [
    "data1['Number of Migrants']=data1['Total Dead and Missing']+data1['Number of Survivors']"
   ]
  },
  {
   "cell_type": "code",
   "execution_count": 36,
   "metadata": {
    "scrolled": true
   },
   "outputs": [
    {
     "name": "stdout",
     "output_type": "stream",
     "text": [
      "R_²: 0.8756601882587375\n"
     ]
    }
   ],
   "source": [
    "y=data1['Total Dead and Missing']\n",
    "x= data1.drop(['Total Dead and Missing','Number of Survivors',\"Number Dead\"], axis=1)\n",
    "x_train, x_test, y_train, y_test = train_test_split(x, y, test_size=0.2, random_state=42)\n",
    "model=LinearRegression()\n",
    "model.fit(x_train,y_train)\n",
    "predicted=model.predict(x_test)\n",
    "print (\"R_²:\", r2_score(y_test, predicted))"
   ]
  },
  {
   "cell_type": "markdown",
   "metadata": {},
   "source": [
    "#### Polynomial Regression"
   ]
  },
  {
   "cell_type": "code",
   "execution_count": 38,
   "metadata": {},
   "outputs": [],
   "source": [
    "from sklearn.preprocessing import PolynomialFeatures"
   ]
  },
  {
   "cell_type": "code",
   "execution_count": 47,
   "metadata": {},
   "outputs": [
    {
     "name": "stdout",
     "output_type": "stream",
     "text": [
      "R_²: -1.440256510420868\n"
     ]
    }
   ],
   "source": [
    "y=data1['Total Dead and Missing']\n",
    "x= data1.drop(['Total Dead and Missing','Number of Survivors',\"Number Dead\"], axis=1)\n",
    "x_train, x_test, y_train, y_test = train_test_split(x, y, test_size=0.2, random_state=42)\n",
    "pol=PolynomialFeatures(degree=2)\n",
    "X_train=pol.fit_transform(x_train)\n",
    "X_test=pol.fit_transform(x_test)\n",
    "model=LinearRegression()\n",
    "model.fit(X_train,y_train)\n",
    "predicted=model.predict(X_test)\n",
    "print (\"R_²:\", r2_score(y_test, predicted))"
   ]
  },
  {
   "cell_type": "markdown",
   "metadata": {},
   "source": [
    "## Predicting the Region of the incident\n",
    "#### Classification tree"
   ]
  },
  {
   "cell_type": "code",
   "execution_count": 38,
   "metadata": {},
   "outputs": [],
   "source": [
    "from sklearn.tree import tree"
   ]
  },
  {
   "cell_type": "code",
   "execution_count": 47,
   "metadata": {},
   "outputs": [
    {
     "name": "stderr",
     "output_type": "stream",
     "text": [
      "c:\\users\\asus\\appdata\\local\\programs\\python\\python36-32\\lib\\site-packages\\sklearn\\externals\\six.py:31: DeprecationWarning: The module is deprecated in version 0.21 and will be removed in version 0.23 since we've dropped support for Python 2.7. Please rely on the official version of six (https://pypi.org/project/six/).\n",
      "  \"(https://pypi.org/project/six/).\", DeprecationWarning)\n"
     ]
    }
   ],
   "source": [
    "from sklearn.tree import export_graphviz\n",
    "from sklearn import metrics\n",
    "from sklearn.externals.six import StringIO  \n",
    "from IPython.display import Image  \n",
    "import pydotplus"
   ]
  },
  {
   "cell_type": "code",
   "execution_count": 40,
   "metadata": {},
   "outputs": [],
   "source": [
    "import graphviz"
   ]
  },
  {
   "cell_type": "code",
   "execution_count": 46,
   "metadata": {},
   "outputs": [
    {
     "name": "stdout",
     "output_type": "stream",
     "text": [
      "Accuracy: 0.7572633552014996\n"
     ]
    }
   ],
   "source": [
    "y=ndata1['Region of Incident']\n",
    "x= ndata1.drop([\"Region of Incident\",\"Latitude\",\"Longtitude\"], axis=1)\n",
    "x_train, x_test, y_train, y_test = train_test_split(x, y, test_size=0.2, random_state=42)\n",
    "model=tree.DecisionTreeClassifier()\n",
    "model.fit(x_train,y_train)\n",
    "predicted=model.predict(x_test)\n",
    "print(\"Accuracy:\",metrics.accuracy_score(y_test, predicted))"
   ]
  },
  {
   "cell_type": "code",
   "execution_count": null,
   "metadata": {},
   "outputs": [],
   "source": [
    "y=ndata1['Region of Incident']\n",
    "x= ndata1.drop([\"Region of Incident\",\"Latitude\",\"Longtitude\"], axis=1)\n",
    "x_train, x_test, y_train, y_test = train_test_split(x, y, test_size=0.2, random_state=42)\n",
    "model=tree.DecisionTreeClassifier()\n",
    "model.fit(x_train,y_train)\n",
    "predicted=model.predict(x_test)\n",
    "gph= export_graphviz(model,out_file=None,class_names=y.values,feature_names=list(x.columns),filled=True,special_characters=True)\n",
    "graphe=graphviz.Source(gph)\n",
    "graphe.render('Region',view=True)\n",
    "graphe"
   ]
  },
  {
   "cell_type": "code",
   "execution_count": 48,
   "metadata": {},
   "outputs": [],
   "source": [
    "from sklearn.metrics import classification_report"
   ]
  },
  {
   "cell_type": "code",
   "execution_count": 50,
   "metadata": {},
   "outputs": [
    {
     "name": "stdout",
     "output_type": "stream",
     "text": [
      "                    precision    recall  f1-score   support\n",
      "\n",
      "         Caribbean   0.300000  0.272727  0.285714        11\n",
      "   Central America   0.583333  0.614035  0.598291        57\n",
      "         East Asia   0.000000  0.000000  0.000000         3\n",
      "            Europe   0.763636  0.750000  0.756757        56\n",
      "    Horn of Africa   0.365385  0.487179  0.417582        39\n",
      "     Mediterranean   0.883495  0.928571  0.905473       196\n",
      "       Middle East   0.771429  0.818182  0.794118        33\n",
      "      North Africa   0.730769  0.760000  0.745098       250\n",
      "     South America   0.666667  0.333333  0.444444         6\n",
      "        South Asia   0.636364  0.482759  0.549020        29\n",
      "    Southeast Asia   0.357143  0.250000  0.294118        20\n",
      "Sub-Saharan Africa   0.539326  0.457143  0.494845       105\n",
      "  US-Mexico Border   0.926923  0.919847  0.923372       262\n",
      "\n",
      "          accuracy                       0.757263      1067\n",
      "         macro avg   0.578805  0.544137  0.554525      1067\n",
      "      weighted avg   0.753476  0.757263  0.753716      1067\n",
      "\n"
     ]
    }
   ],
   "source": [
    "sk_report = classification_report(\n",
    "    digits=6,\n",
    "    y_true=y_test, \n",
    "    y_pred=predicted)\n",
    "print(sk_report)"
   ]
  },
  {
   "cell_type": "markdown",
   "metadata": {},
   "source": [
    "#### Random Forest"
   ]
  },
  {
   "cell_type": "code",
   "execution_count": 52,
   "metadata": {},
   "outputs": [],
   "source": [
    "from sklearn.ensemble import RandomForestClassifier"
   ]
  },
  {
   "cell_type": "markdown",
   "metadata": {},
   "source": [
    "y=nds['Region of Incident']\n",
    "x= nds.drop([\"Region of Incident\",\"Lon\",\"Lat\"], axis=1)\n",
    "x_train, x_test, y_train, y_test = train_test_split(x, y, test_size=0.2, random_state=42)\n",
    "model=RandomForestClassifier(n_estimators=50)\n",
    "model.fit(x_train,y_train)\n",
    "predicted=model.predict(x_test)"
   ]
  },
  {
   "cell_type": "code",
   "execution_count": 53,
   "metadata": {},
   "outputs": [],
   "source": [
    "y=ndata1['Region of Incident']\n",
    "x= ndata1.drop([\"Region of Incident\",\"Latitude\",\"Longtitude\"], axis=1)\n",
    "x_train, x_test, y_train, y_test = train_test_split(x, y, test_size=0.2, random_state=42)\n",
    "model=RandomForestClassifier(n_estimators=50)\n",
    "model.fit(x_train,y_train)\n",
    "predicted=model.predict(x_test)"
   ]
  },
  {
   "cell_type": "code",
   "execution_count": 54,
   "metadata": {},
   "outputs": [
    {
     "name": "stdout",
     "output_type": "stream",
     "text": [
      "                    precision    recall  f1-score   support\n",
      "\n",
      "         Caribbean   0.000000  0.000000  0.000000        11\n",
      "   Central America   0.693878  0.596491  0.641509        57\n",
      "         East Asia   0.000000  0.000000  0.000000         3\n",
      "            Europe   0.701754  0.714286  0.707965        56\n",
      "    Horn of Africa   0.392857  0.282051  0.328358        39\n",
      "     Mediterranean   0.802575  0.954082  0.871795       196\n",
      "       Middle East   0.771429  0.818182  0.794118        33\n",
      "      North Africa   0.720000  0.792000  0.754286       250\n",
      "     North America   0.000000  0.000000  0.000000         0\n",
      "     South America   0.000000  0.000000  0.000000         6\n",
      "        South Asia   0.761905  0.551724  0.640000        29\n",
      "    Southeast Asia   0.428571  0.150000  0.222222        20\n",
      "Sub-Saharan Africa   0.531915  0.476190  0.502513       105\n",
      "  US-Mexico Border   0.950192  0.946565  0.948375       262\n",
      "\n",
      "          accuracy                       0.762887      1067\n",
      "         macro avg   0.482505  0.448684  0.457939      1067\n",
      "      weighted avg   0.742643  0.762887  0.748744      1067\n",
      "\n"
     ]
    },
    {
     "name": "stderr",
     "output_type": "stream",
     "text": [
      "c:\\users\\asus\\appdata\\local\\programs\\python\\python36-32\\lib\\site-packages\\sklearn\\metrics\\classification.py:1437: UndefinedMetricWarning: Precision and F-score are ill-defined and being set to 0.0 in labels with no predicted samples.\n",
      "  'precision', 'predicted', average, warn_for)\n",
      "c:\\users\\asus\\appdata\\local\\programs\\python\\python36-32\\lib\\site-packages\\sklearn\\metrics\\classification.py:1439: UndefinedMetricWarning: Recall and F-score are ill-defined and being set to 0.0 in labels with no true samples.\n",
      "  'recall', 'true', average, warn_for)\n"
     ]
    }
   ],
   "source": [
    "sk_report = classification_report(\n",
    "    digits=6,\n",
    "    y_true=y_test, \n",
    "    y_pred=predicted)\n",
    "print(sk_report)"
   ]
  },
  {
   "cell_type": "markdown",
   "metadata": {},
   "source": [
    "# conclusion"
   ]
  },
  {
   "cell_type": "markdown",
   "metadata": {},
   "source": [
    "### visulisation:\n",
    "    provide more security for the most used migration route and the biggest region of migration at the last 5 months of the     year\n"
   ]
  },
  {
   "cell_type": "markdown",
   "metadata": {},
   "source": [
    "### modeling:\n",
    "    knowing how many workers each region must provide to secure the route before anything bad happend"
   ]
  },
  {
   "cell_type": "code",
   "execution_count": null,
   "metadata": {},
   "outputs": [],
   "source": []
  }
 ],
 "metadata": {
  "kernelspec": {
   "display_name": "Python 3",
   "language": "python",
   "name": "python3"
  },
  "language_info": {
   "codemirror_mode": {
    "name": "ipython",
    "version": 3
   },
   "file_extension": ".py",
   "mimetype": "text/x-python",
   "name": "python",
   "nbconvert_exporter": "python",
   "pygments_lexer": "ipython3",
   "version": "3.7.0"
  }
 },
 "nbformat": 4,
 "nbformat_minor": 2
}
